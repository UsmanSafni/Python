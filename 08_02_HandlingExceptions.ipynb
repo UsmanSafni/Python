{
  "cells": [
    {
      "cell_type": "markdown",
      "metadata": {
        "id": "view-in-github",
        "colab_type": "text"
      },
      "source": [
        "<a href=\"https://colab.research.google.com/github/UsmanSafni/Python/blob/main/08_02_HandlingExceptions.ipynb\" target=\"_parent\"><img src=\"https://colab.research.google.com/assets/colab-badge.svg\" alt=\"Open In Colab\"/></a>"
      ]
    },
    {
      "cell_type": "code",
      "execution_count": null,
      "id": "91c52d9a",
      "metadata": {
        "id": "91c52d9a"
      },
      "outputs": [],
      "source": [
        "import time"
      ]
    },
    {
      "cell_type": "markdown",
      "id": "c7033b12",
      "metadata": {
        "id": "c7033b12"
      },
      "source": [
        "## Handling Exceptions"
      ]
    },
    {
      "cell_type": "markdown",
      "id": "8a312fe4",
      "metadata": {
        "id": "8a312fe4"
      },
      "source": [
        "### Try / Except"
      ]
    },
    {
      "cell_type": "code",
      "execution_count": null,
      "id": "20b83b44",
      "metadata": {
        "id": "20b83b44",
        "outputId": "1629e0eb-2544-4a20-d005-636303064c88"
      },
      "outputs": [
        {
          "data": {
            "text/plain": [
              "ZeroDivisionError('division by zero')"
            ]
          },
          "execution_count": 1,
          "metadata": {},
          "output_type": "execute_result"
        }
      ],
      "source": [
        "def causeError():\n",
        "    try:\n",
        "        return 1/0\n",
        "    except Exception as e:\n",
        "        return e\n",
        "\n",
        "causeError()"
      ]
    },
    {
      "cell_type": "code",
      "execution_count": null,
      "id": "df66e89a",
      "metadata": {
        "id": "df66e89a",
        "outputId": "3bea4ac1-d1e9-4fed-aacc-da6943eae5da"
      },
      "outputs": [
        {
          "name": "stdout",
          "output_type": "stream",
          "text": [
            "There was some sort of error!\n"
          ]
        }
      ],
      "source": [
        "def causeError():\n",
        "    try:\n",
        "        return 1/0\n",
        "    except Exception:\n",
        "        print('There was some sort of error!')\n",
        "\n",
        "causeError()"
      ]
    },
    {
      "cell_type": "markdown",
      "id": "14e56369",
      "metadata": {
        "id": "14e56369"
      },
      "source": [
        "### Finally"
      ]
    },
    {
      "cell_type": "code",
      "execution_count": null,
      "id": "31791e33",
      "metadata": {
        "id": "31791e33",
        "outputId": "5c93d89e-2cc9-4d54-d395-8e1adea3b346"
      },
      "outputs": [
        {
          "name": "stdout",
          "output_type": "stream",
          "text": [
            "This will always execute!\n"
          ]
        },
        {
          "data": {
            "text/plain": [
              "1.0"
            ]
          },
          "execution_count": 5,
          "metadata": {},
          "output_type": "execute_result"
        }
      ],
      "source": [
        "def causeError():\n",
        "    try:\n",
        "        return 1/1\n",
        "    except Exception:\n",
        "        print('There was some sort of error!')\n",
        "    finally:\n",
        "        print('This will always execute!')\n",
        "\n",
        "causeError()"
      ]
    },
    {
      "cell_type": "code",
      "execution_count": null,
      "id": "865a6a76",
      "metadata": {
        "id": "865a6a76",
        "outputId": "ac03a8f9-3da9-4477-8b49-04f2e4431426"
      },
      "outputs": [
        {
          "name": "stdout",
          "output_type": "stream",
          "text": [
            "There was some sort of error!\n",
            "Function took 0.504910945892334 seconds to execute\n"
          ]
        }
      ],
      "source": [
        "def causeError():\n",
        "    start = time.time()\n",
        "    try:\n",
        "        time.sleep(0.5)\n",
        "        return 1/0\n",
        "    except Exception:\n",
        "        print('There was some sort of error!')\n",
        "    finally:\n",
        "        print(f'Function took {time.time() - start} seconds to execute')\n",
        "\n",
        "causeError()"
      ]
    },
    {
      "cell_type": "markdown",
      "id": "1debbbd8",
      "metadata": {
        "id": "1debbbd8"
      },
      "source": [
        "### Catching Exceptions by Type"
      ]
    },
    {
      "cell_type": "code",
      "execution_count": null,
      "id": "04b0686c",
      "metadata": {
        "id": "04b0686c",
        "outputId": "67d21d87-0160-4c6d-a1be-2092860aa379"
      },
      "outputs": [
        {
          "name": "stdout",
          "output_type": "stream",
          "text": [
            "There was a type error!\n"
          ]
        }
      ],
      "source": [
        "def causeError():\n",
        "    try:\n",
        "        return 1 + 'a'\n",
        "\n",
        "    except TypeError:\n",
        "        print('There was a type error!')\n",
        "    except ZeroDivisionError:\n",
        "        print('There was a zero division error!')\n",
        "    except Exception:\n",
        "        print('There was some sort of error!')\n",
        "\n",
        "\n",
        "causeError()"
      ]
    },
    {
      "cell_type": "markdown",
      "id": "bdd13638",
      "metadata": {
        "id": "bdd13638"
      },
      "source": [
        "### Custom Decorators"
      ]
    },
    {
      "cell_type": "code",
      "execution_count": null,
      "id": "339fce9c",
      "metadata": {
        "id": "339fce9c",
        "outputId": "3860e187-35aa-4369-c02b-492419b520e4"
      },
      "outputs": [
        {
          "name": "stdout",
          "output_type": "stream",
          "text": [
            "There was a zero division error!\n"
          ]
        }
      ],
      "source": [
        "def handleException(func):\n",
        "    def wrapper(*args):\n",
        "        try:\n",
        "            func(*args)\n",
        "        except TypeError:\n",
        "            print('There was a type error!')\n",
        "        except ZeroDivisionError:\n",
        "            print('There was a zero division error!')\n",
        "        except Exception:\n",
        "            print('There was some sort of error!')\n",
        "    return wrapper\n",
        "\n",
        "@handleException\n",
        "def causeError():\n",
        "    return 1/0\n",
        "\n",
        "causeError()"
      ]
    },
    {
      "cell_type": "markdown",
      "id": "017a9545",
      "metadata": {
        "id": "017a9545"
      },
      "source": [
        "### Raising Exceptions"
      ]
    },
    {
      "cell_type": "code",
      "execution_count": null,
      "id": "54a8798c",
      "metadata": {
        "id": "54a8798c",
        "outputId": "95487b5b-636c-4905-ec08-2c58917c08a0"
      },
      "outputs": [
        {
          "name": "stdout",
          "output_type": "stream",
          "text": [
            "1\n"
          ]
        }
      ],
      "source": [
        "@handleException\n",
        "def raiseError(n):\n",
        "    if n == 0:\n",
        "        raise Exception()\n",
        "    print(n)\n",
        "\n",
        "raiseError(1)"
      ]
    },
    {
      "cell_type": "code",
      "execution_count": null,
      "id": "42d42d9f",
      "metadata": {
        "id": "42d42d9f"
      },
      "outputs": [],
      "source": []
    }
  ],
  "metadata": {
    "kernelspec": {
      "display_name": "Python 3 (ipykernel)",
      "language": "python",
      "name": "python3"
    },
    "language_info": {
      "codemirror_mode": {
        "name": "ipython",
        "version": 3
      },
      "file_extension": ".py",
      "mimetype": "text/x-python",
      "name": "python",
      "nbconvert_exporter": "python",
      "pygments_lexer": "ipython3",
      "version": "3.10.2"
    },
    "colab": {
      "provenance": [],
      "include_colab_link": true
    }
  },
  "nbformat": 4,
  "nbformat_minor": 5
}