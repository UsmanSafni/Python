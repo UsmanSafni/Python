{
  "cells": [
    {
      "cell_type": "markdown",
      "metadata": {
        "id": "view-in-github",
        "colab_type": "text"
      },
      "source": [
        "<a href=\"https://colab.research.google.com/github/UsmanSafni/Python/blob/main/04_02_Tuples_and_sets.ipynb\" target=\"_parent\"><img src=\"https://colab.research.google.com/assets/colab-badge.svg\" alt=\"Open In Colab\"/></a>"
      ]
    },
    {
      "cell_type": "markdown",
      "id": "9ace3b36",
      "metadata": {
        "id": "9ace3b36"
      },
      "source": [
        "## Sets"
      ]
    },
    {
      "cell_type": "code",
      "execution_count": null,
      "id": "d2f6b728",
      "metadata": {
        "id": "d2f6b728",
        "outputId": "6f3d11b1-0ab8-49e8-c750-d553776cb8da"
      },
      "outputs": [
        {
          "data": {
            "text/plain": [
              "{'a', 'b', 'c'}"
            ]
          },
          "execution_count": 1,
          "metadata": {},
          "output_type": "execute_result"
        }
      ],
      "source": [
        "mySet = {'a', 'b', 'c'}\n",
        "mySet"
      ]
    },
    {
      "cell_type": "code",
      "execution_count": null,
      "id": "8aefd2cd",
      "metadata": {
        "id": "8aefd2cd"
      },
      "outputs": [],
      "source": [
        "mySet = set(('a', 'b', 'c'))"
      ]
    },
    {
      "cell_type": "code",
      "execution_count": null,
      "id": "e101dd56",
      "metadata": {
        "id": "e101dd56",
        "outputId": "95fa19bd-9c40-4c3d-f29e-69d5243d2cd8"
      },
      "outputs": [
        {
          "data": {
            "text/plain": [
              "{'a', 'b', 'c'}"
            ]
          },
          "execution_count": 4,
          "metadata": {},
          "output_type": "execute_result"
        }
      ],
      "source": [
        "mySet"
      ]
    },
    {
      "cell_type": "code",
      "execution_count": null,
      "id": "69200543",
      "metadata": {
        "id": "69200543",
        "outputId": "9af2153d-d75f-49a5-9995-a1fa45039fc3"
      },
      "outputs": [
        {
          "data": {
            "text/plain": [
              "['a', 'b', 'c']"
            ]
          },
          "execution_count": 5,
          "metadata": {},
          "output_type": "execute_result"
        }
      ],
      "source": [
        "myList = ['a', 'b', 'b', 'c', 'c']\n",
        "myList = list(set(myList))\n",
        "myList"
      ]
    },
    {
      "cell_type": "code",
      "execution_count": null,
      "id": "d72cab4d",
      "metadata": {
        "id": "d72cab4d",
        "outputId": "33af6984-4d6e-4730-8cc0-fdca3bec2c4b"
      },
      "outputs": [
        {
          "ename": "TypeError",
          "evalue": "'set' object is not subscriptable",
          "output_type": "error",
          "traceback": [
            "\u001b[0;31m---------------------------------------------------------------------------\u001b[0m",
            "\u001b[0;31mTypeError\u001b[0m                                 Traceback (most recent call last)",
            "Input \u001b[0;32mIn [6]\u001b[0m, in \u001b[0;36m<module>\u001b[0;34m\u001b[0m\n\u001b[0;32m----> 1\u001b[0m \u001b[43mmySet\u001b[49m\u001b[43m[\u001b[49m\u001b[38;5;241;43m0\u001b[39;49m\u001b[43m]\u001b[49m\n",
            "\u001b[0;31mTypeError\u001b[0m: 'set' object is not subscriptable"
          ]
        }
      ],
      "source": [
        "mySet[0]"
      ]
    },
    {
      "cell_type": "code",
      "execution_count": null,
      "id": "a806d16a",
      "metadata": {
        "id": "a806d16a",
        "outputId": "b9ca224d-2f04-4b90-b997-7f8311952620"
      },
      "outputs": [
        {
          "name": "stderr",
          "output_type": "stream",
          "text": [
            "<>:2: SyntaxWarning: 'int' object is not subscriptable; perhaps you missed a comma?\n",
            "<>:2: SyntaxWarning: 'int' object is not subscriptable; perhaps you missed a comma?\n",
            "/var/folders/fl/tpkdpqfn7qj8x03js4wtflc00000gn/T/ipykernel_85667/2203923273.py:2: SyntaxWarning: 'int' object is not subscriptable; perhaps you missed a comma?\n",
            "  1[0]\n",
            "/var/folders/fl/tpkdpqfn7qj8x03js4wtflc00000gn/T/ipykernel_85667/2203923273.py:2: SyntaxWarning: 'int' object is not subscriptable; perhaps you missed a comma?\n",
            "  1[0]\n",
            "/var/folders/fl/tpkdpqfn7qj8x03js4wtflc00000gn/T/ipykernel_85667/2203923273.py:2: SyntaxWarning: 'int' object is not subscriptable; perhaps you missed a comma?\n",
            "  1[0]\n"
          ]
        },
        {
          "ename": "TypeError",
          "evalue": "'int' object is not subscriptable",
          "output_type": "error",
          "traceback": [
            "\u001b[0;31m---------------------------------------------------------------------------\u001b[0m",
            "\u001b[0;31mTypeError\u001b[0m                                 Traceback (most recent call last)",
            "Input \u001b[0;32mIn [7]\u001b[0m, in \u001b[0;36m<module>\u001b[0;34m\u001b[0m\n\u001b[1;32m      1\u001b[0m number \u001b[38;5;241m=\u001b[39m \u001b[38;5;241m1\u001b[39m\n\u001b[0;32m----> 2\u001b[0m \u001b[38;5;241;43m1\u001b[39;49m\u001b[43m[\u001b[49m\u001b[38;5;241;43m0\u001b[39;49m\u001b[43m]\u001b[49m\n",
            "\u001b[0;31mTypeError\u001b[0m: 'int' object is not subscriptable"
          ]
        }
      ],
      "source": [
        "number = 1\n",
        "1[0]"
      ]
    },
    {
      "cell_type": "code",
      "execution_count": null,
      "id": "80dc46d0",
      "metadata": {
        "id": "80dc46d0",
        "outputId": "a161dbb8-f06b-4b84-e007-41045642c19b"
      },
      "outputs": [
        {
          "data": {
            "text/plain": [
              "{'a', 'b', 'c', 'd'}"
            ]
          },
          "execution_count": 9,
          "metadata": {},
          "output_type": "execute_result"
        }
      ],
      "source": [
        "mySet.add('d')\n",
        "mySet"
      ]
    },
    {
      "cell_type": "code",
      "execution_count": null,
      "id": "2a98889e",
      "metadata": {
        "id": "2a98889e",
        "outputId": "be907157-bd85-4e37-8194-6873e0cc14a7"
      },
      "outputs": [
        {
          "data": {
            "text/plain": [
              "True"
            ]
          },
          "execution_count": 10,
          "metadata": {},
          "output_type": "execute_result"
        }
      ],
      "source": [
        "'a' in mySet"
      ]
    },
    {
      "cell_type": "code",
      "execution_count": null,
      "id": "a921cee9",
      "metadata": {
        "id": "a921cee9",
        "outputId": "e00ad29e-698b-4d32-b7d1-b24a5b602de2"
      },
      "outputs": [
        {
          "data": {
            "text/plain": [
              "False"
            ]
          },
          "execution_count": 11,
          "metadata": {},
          "output_type": "execute_result"
        }
      ],
      "source": [
        "'z' in mySet"
      ]
    },
    {
      "cell_type": "code",
      "execution_count": null,
      "id": "ab1b620c",
      "metadata": {
        "id": "ab1b620c",
        "outputId": "2b36ea15-c0bd-4528-a093-c09c6f315da4"
      },
      "outputs": [
        {
          "data": {
            "text/plain": [
              "4"
            ]
          },
          "execution_count": 12,
          "metadata": {},
          "output_type": "execute_result"
        }
      ],
      "source": [
        "len(mySet)"
      ]
    },
    {
      "cell_type": "code",
      "execution_count": null,
      "id": "e6e31f21",
      "metadata": {
        "id": "e6e31f21",
        "outputId": "66f4c3b9-49ca-488a-841c-a20b357ff1bf"
      },
      "outputs": [
        {
          "name": "stdout",
          "output_type": "stream",
          "text": [
            "a\n",
            "b\n",
            "c\n",
            "d\n"
          ]
        }
      ],
      "source": [
        "while len(mySet):\n",
        "    print(mySet.pop())"
      ]
    },
    {
      "cell_type": "code",
      "execution_count": null,
      "id": "feb2c369",
      "metadata": {
        "id": "feb2c369",
        "outputId": "6f18853b-3353-412b-cf05-0fcd8406a890"
      },
      "outputs": [
        {
          "data": {
            "text/plain": [
              "set()"
            ]
          },
          "execution_count": 15,
          "metadata": {},
          "output_type": "execute_result"
        }
      ],
      "source": [
        "mySet"
      ]
    },
    {
      "cell_type": "code",
      "execution_count": null,
      "id": "f46ecc23",
      "metadata": {
        "id": "f46ecc23"
      },
      "outputs": [],
      "source": [
        "mySet = {'a', 'b', 'c'}"
      ]
    },
    {
      "cell_type": "code",
      "execution_count": null,
      "id": "db7970a1",
      "metadata": {
        "id": "db7970a1"
      },
      "outputs": [],
      "source": [
        "mySet.discard('a')"
      ]
    },
    {
      "cell_type": "code",
      "execution_count": null,
      "id": "8831c30e",
      "metadata": {
        "id": "8831c30e",
        "outputId": "8bbfa5fe-6cd2-47c1-9ce9-e3caaa48159a"
      },
      "outputs": [
        {
          "data": {
            "text/plain": [
              "{'b', 'c'}"
            ]
          },
          "execution_count": 18,
          "metadata": {},
          "output_type": "execute_result"
        }
      ],
      "source": [
        "mySet"
      ]
    },
    {
      "cell_type": "markdown",
      "id": "f39e6aee",
      "metadata": {
        "id": "f39e6aee"
      },
      "source": [
        "## Tuples"
      ]
    },
    {
      "cell_type": "code",
      "execution_count": null,
      "id": "98151b6a",
      "metadata": {
        "id": "98151b6a",
        "outputId": "005b7ce1-7b79-4654-cb44-f362b505af36"
      },
      "outputs": [
        {
          "data": {
            "text/plain": [
              "('a', 'b', 'c')"
            ]
          },
          "execution_count": 19,
          "metadata": {},
          "output_type": "execute_result"
        }
      ],
      "source": [
        "myTuple = ('a', 'b', 'c')\n",
        "myTuple"
      ]
    },
    {
      "cell_type": "code",
      "execution_count": null,
      "id": "2841cbc2",
      "metadata": {
        "id": "2841cbc2",
        "outputId": "1f871666-52bf-4f9c-ac06-c7773c3d8e45"
      },
      "outputs": [
        {
          "data": {
            "text/plain": [
              "'a'"
            ]
          },
          "execution_count": 20,
          "metadata": {},
          "output_type": "execute_result"
        }
      ],
      "source": [
        "myTuple[0]"
      ]
    },
    {
      "cell_type": "code",
      "execution_count": null,
      "id": "42b2f324",
      "metadata": {
        "id": "42b2f324",
        "outputId": "9d281ebe-3e1c-4840-e81e-39a884317251"
      },
      "outputs": [
        {
          "ename": "TypeError",
          "evalue": "'tuple' object does not support item assignment",
          "output_type": "error",
          "traceback": [
            "\u001b[0;31m---------------------------------------------------------------------------\u001b[0m",
            "\u001b[0;31mTypeError\u001b[0m                                 Traceback (most recent call last)",
            "Input \u001b[0;32mIn [21]\u001b[0m, in \u001b[0;36m<module>\u001b[0;34m\u001b[0m\n\u001b[0;32m----> 1\u001b[0m myTuple[\u001b[38;5;241m0\u001b[39m] \u001b[38;5;241m=\u001b[39m \u001b[38;5;124m'\u001b[39m\u001b[38;5;124md\u001b[39m\u001b[38;5;124m'\u001b[39m\n",
            "\u001b[0;31mTypeError\u001b[0m: 'tuple' object does not support item assignment"
          ]
        }
      ],
      "source": [
        "myTuple[0] = 'd'"
      ]
    },
    {
      "cell_type": "code",
      "execution_count": null,
      "id": "1f64ecd4",
      "metadata": {
        "id": "1f64ecd4",
        "outputId": "fc49c94d-65f1-410a-cee5-f8fa8a814dd6"
      },
      "outputs": [
        {
          "data": {
            "text/plain": [
              "tuple"
            ]
          },
          "execution_count": 27,
          "metadata": {},
          "output_type": "execute_result"
        }
      ],
      "source": [
        "def returnsMultipleValues():\n",
        "    return 1,2,3\n",
        "\n",
        "type(returnsMultipleValues())"
      ]
    },
    {
      "cell_type": "code",
      "execution_count": null,
      "id": "ecca91c0",
      "metadata": {
        "id": "ecca91c0"
      },
      "outputs": [],
      "source": [
        "myTuple = (1,2,3)"
      ]
    },
    {
      "cell_type": "code",
      "execution_count": null,
      "id": "08d209bb",
      "metadata": {
        "id": "08d209bb",
        "outputId": "01e47911-aaed-480e-aa47-51de0361655a"
      },
      "outputs": [
        {
          "data": {
            "text/plain": [
              "tuple"
            ]
          },
          "execution_count": 25,
          "metadata": {},
          "output_type": "execute_result"
        }
      ],
      "source": [
        "type(myTuple)"
      ]
    },
    {
      "cell_type": "code",
      "execution_count": null,
      "id": "0c5c57a0",
      "metadata": {
        "id": "0c5c57a0"
      },
      "outputs": [],
      "source": [
        "a, b, c = returnsMultipleValues()"
      ]
    },
    {
      "cell_type": "code",
      "execution_count": null,
      "id": "d8f3b2cf",
      "metadata": {
        "id": "d8f3b2cf",
        "outputId": "175c5e63-05b4-4186-d7d9-76475c0d50cd"
      },
      "outputs": [
        {
          "name": "stdout",
          "output_type": "stream",
          "text": [
            "1\n",
            "2\n",
            "3\n"
          ]
        }
      ],
      "source": [
        "print(a)\n",
        "print(b)\n",
        "print(c)"
      ]
    },
    {
      "cell_type": "code",
      "execution_count": null,
      "id": "de8a9af3",
      "metadata": {
        "id": "de8a9af3"
      },
      "outputs": [],
      "source": []
    }
  ],
  "metadata": {
    "kernelspec": {
      "display_name": "Python 3 (ipykernel)",
      "language": "python",
      "name": "python3"
    },
    "language_info": {
      "codemirror_mode": {
        "name": "ipython",
        "version": 3
      },
      "file_extension": ".py",
      "mimetype": "text/x-python",
      "name": "python",
      "nbconvert_exporter": "python",
      "pygments_lexer": "ipython3",
      "version": "3.10.2"
    },
    "colab": {
      "provenance": [],
      "include_colab_link": true
    }
  },
  "nbformat": 4,
  "nbformat_minor": 5
}