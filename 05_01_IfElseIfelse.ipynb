{
  "cells": [
    {
      "cell_type": "markdown",
      "metadata": {
        "id": "view-in-github",
        "colab_type": "text"
      },
      "source": [
        "<a href=\"https://colab.research.google.com/github/UsmanSafni/Python/blob/main/05_01_IfElseIfelse.ipynb\" target=\"_parent\"><img src=\"https://colab.research.google.com/assets/colab-badge.svg\" alt=\"Open In Colab\"/></a>"
      ]
    },
    {
      "cell_type": "markdown",
      "id": "c2034a59",
      "metadata": {
        "id": "c2034a59"
      },
      "source": [
        "## If statements with \"FizzBuzz\""
      ]
    },
    {
      "cell_type": "code",
      "execution_count": null,
      "id": "4ba398e8",
      "metadata": {
        "id": "4ba398e8",
        "outputId": "0406a13d-d2ff-4714-cd13-ebd13e4aa59a"
      },
      "outputs": [
        {
          "name": "stdout",
          "output_type": "stream",
          "text": [
            "1\n",
            "2\n",
            "Fizz\n",
            "4\n",
            "Buzz\n",
            "Fizz\n",
            "7\n",
            "8\n",
            "Fizz\n",
            "Buzz\n",
            "11\n",
            "Fizz\n",
            "13\n",
            "14\n",
            "FizzBuzz\n",
            "16\n",
            "17\n",
            "Fizz\n",
            "19\n",
            "Buzz\n",
            "Fizz\n",
            "22\n",
            "23\n",
            "Fizz\n",
            "Buzz\n",
            "26\n",
            "Fizz\n",
            "28\n",
            "29\n",
            "FizzBuzz\n",
            "31\n",
            "32\n",
            "Fizz\n",
            "34\n",
            "Buzz\n",
            "Fizz\n",
            "37\n",
            "38\n",
            "Fizz\n",
            "Buzz\n",
            "41\n",
            "Fizz\n",
            "43\n",
            "44\n",
            "FizzBuzz\n",
            "46\n",
            "47\n",
            "Fizz\n",
            "49\n",
            "Buzz\n",
            "Fizz\n",
            "52\n",
            "53\n",
            "Fizz\n",
            "Buzz\n",
            "56\n",
            "Fizz\n",
            "58\n",
            "59\n",
            "FizzBuzz\n",
            "61\n",
            "62\n",
            "Fizz\n",
            "64\n",
            "Buzz\n",
            "Fizz\n",
            "67\n",
            "68\n",
            "Fizz\n",
            "Buzz\n",
            "71\n",
            "Fizz\n",
            "73\n",
            "74\n",
            "FizzBuzz\n",
            "76\n",
            "77\n",
            "Fizz\n",
            "79\n",
            "Buzz\n",
            "Fizz\n",
            "82\n",
            "83\n",
            "Fizz\n",
            "Buzz\n",
            "86\n",
            "Fizz\n",
            "88\n",
            "89\n",
            "FizzBuzz\n",
            "91\n",
            "92\n",
            "Fizz\n",
            "94\n",
            "Buzz\n",
            "Fizz\n",
            "97\n",
            "98\n",
            "Fizz\n",
            "Buzz\n"
          ]
        }
      ],
      "source": [
        "# 1, 2, Fizz, 4, Buzz, Fizz, 7, 8, Fizz, Buzz, 11, Fizz, 13, FizzBuzz, 16\n",
        "\n",
        "for n in range(1, 101):\n",
        "    if n % 15 == 0:\n",
        "        print('FizzBuzz')\n",
        "    else:\n",
        "        if n % 3 == 0:\n",
        "            print('Fizz')\n",
        "        else:\n",
        "            if n % 5 == 0:\n",
        "                print('Buzz')\n",
        "            else:\n",
        "                print(n)"
      ]
    },
    {
      "cell_type": "markdown",
      "id": "4397b06b",
      "metadata": {
        "id": "4397b06b"
      },
      "source": [
        "### Elif statements"
      ]
    },
    {
      "cell_type": "code",
      "execution_count": null,
      "id": "9e194f71",
      "metadata": {
        "id": "9e194f71",
        "outputId": "4f7dd625-d295-4ff1-cb50-7427041ad3da"
      },
      "outputs": [
        {
          "name": "stdout",
          "output_type": "stream",
          "text": [
            "1\n",
            "2\n",
            "Fizz\n",
            "4\n",
            "Buzz\n",
            "Fizz\n",
            "7\n",
            "8\n",
            "Fizz\n",
            "Buzz\n",
            "11\n",
            "Fizz\n",
            "13\n",
            "14\n",
            "FizzBuzz\n",
            "16\n",
            "17\n",
            "Fizz\n",
            "19\n",
            "Buzz\n",
            "Fizz\n",
            "22\n",
            "23\n",
            "Fizz\n",
            "Buzz\n",
            "26\n",
            "Fizz\n",
            "28\n",
            "29\n",
            "FizzBuzz\n",
            "31\n",
            "32\n",
            "Fizz\n",
            "34\n",
            "Buzz\n",
            "Fizz\n",
            "37\n",
            "38\n",
            "Fizz\n",
            "Buzz\n",
            "41\n",
            "Fizz\n",
            "43\n",
            "44\n",
            "FizzBuzz\n",
            "46\n",
            "47\n",
            "Fizz\n",
            "49\n",
            "Buzz\n",
            "Fizz\n",
            "52\n",
            "53\n",
            "Fizz\n",
            "Buzz\n",
            "56\n",
            "Fizz\n",
            "58\n",
            "59\n",
            "FizzBuzz\n",
            "61\n",
            "62\n",
            "Fizz\n",
            "64\n",
            "Buzz\n",
            "Fizz\n",
            "67\n",
            "68\n",
            "Fizz\n",
            "Buzz\n",
            "71\n",
            "Fizz\n",
            "73\n",
            "74\n",
            "FizzBuzz\n",
            "76\n",
            "77\n",
            "Fizz\n",
            "79\n",
            "Buzz\n",
            "Fizz\n",
            "82\n",
            "83\n",
            "Fizz\n",
            "Buzz\n",
            "86\n",
            "Fizz\n",
            "88\n",
            "89\n",
            "FizzBuzz\n",
            "91\n",
            "92\n",
            "Fizz\n",
            "94\n",
            "Buzz\n",
            "Fizz\n",
            "97\n",
            "98\n",
            "Fizz\n",
            "Buzz\n"
          ]
        }
      ],
      "source": [
        "for n in range(1, 101):\n",
        "    if n % 15 == 0:\n",
        "        print('FizzBuzz')\n",
        "    elif n % 3 == 0:\n",
        "        print('Fizz')\n",
        "    elif n % 5 == 0:\n",
        "        print('Buzz')\n",
        "    else:\n",
        "        print(n)\n",
        "\n"
      ]
    },
    {
      "cell_type": "markdown",
      "id": "1413eeef",
      "metadata": {
        "id": "1413eeef"
      },
      "source": [
        "### Single Line if statements"
      ]
    },
    {
      "cell_type": "code",
      "execution_count": null,
      "id": "bd670c44",
      "metadata": {
        "id": "bd670c44",
        "outputId": "be5fa4da-c96c-46fe-92f9-7001410b6933"
      },
      "outputs": [
        {
          "name": "stdout",
          "output_type": "stream",
          "text": [
            "5\n"
          ]
        }
      ],
      "source": [
        "n = 5\n",
        "print('Fizz' if n % 3 == 0 else n)"
      ]
    },
    {
      "cell_type": "code",
      "execution_count": null,
      "id": "30aa0ab9",
      "metadata": {
        "id": "30aa0ab9"
      },
      "outputs": [],
      "source": [
        "fizzBuzz = 'Fizz' if n % 3 == 0 else n"
      ]
    },
    {
      "cell_type": "code",
      "execution_count": null,
      "id": "8c657dbc",
      "metadata": {
        "id": "8c657dbc",
        "outputId": "28ea2d70-3a83-468b-a9b0-41398008ad8a"
      },
      "outputs": [
        {
          "data": {
            "text/plain": [
              "'Buzz'"
            ]
          },
          "execution_count": 12,
          "metadata": {},
          "output_type": "execute_result"
        }
      ],
      "source": [
        "'Fizz' if n % 3 == 0 else 'Buzz' if n % 5 == 0 else n"
      ]
    },
    {
      "cell_type": "code",
      "execution_count": null,
      "id": "ac92cbb1",
      "metadata": {
        "id": "ac92cbb1",
        "outputId": "69d06fe2-404b-46b4-8cf4-fd0aff31654d"
      },
      "outputs": [
        {
          "data": {
            "text/plain": [
              "'Buzz'"
            ]
          },
          "execution_count": 13,
          "metadata": {},
          "output_type": "execute_result"
        }
      ],
      "source": [
        "'FizzBuzz' if n % 15 == 0 else 'Fizz' if n % 3 == 0 else 'Buzz' if n % 5 == 0 else n"
      ]
    },
    {
      "cell_type": "code",
      "execution_count": null,
      "id": "aab21dd3",
      "metadata": {
        "id": "aab21dd3",
        "outputId": "39a54324-6633-4d60-8a48-bae71b2bc978"
      },
      "outputs": [
        {
          "data": {
            "text/plain": [
              "[1,\n",
              " 2,\n",
              " 'Fizz',\n",
              " 4,\n",
              " 'Buzz',\n",
              " 'Fizz',\n",
              " 7,\n",
              " 8,\n",
              " 'Fizz',\n",
              " 'Buzz',\n",
              " 11,\n",
              " 'Fizz',\n",
              " 13,\n",
              " 14,\n",
              " 'FizzBuzz',\n",
              " 16,\n",
              " 17,\n",
              " 'Fizz',\n",
              " 19,\n",
              " 'Buzz',\n",
              " 'Fizz',\n",
              " 22,\n",
              " 23,\n",
              " 'Fizz',\n",
              " 'Buzz',\n",
              " 26,\n",
              " 'Fizz',\n",
              " 28,\n",
              " 29,\n",
              " 'FizzBuzz',\n",
              " 31,\n",
              " 32,\n",
              " 'Fizz',\n",
              " 34,\n",
              " 'Buzz',\n",
              " 'Fizz',\n",
              " 37,\n",
              " 38,\n",
              " 'Fizz',\n",
              " 'Buzz',\n",
              " 41,\n",
              " 'Fizz',\n",
              " 43,\n",
              " 44,\n",
              " 'FizzBuzz',\n",
              " 46,\n",
              " 47,\n",
              " 'Fizz',\n",
              " 49,\n",
              " 'Buzz',\n",
              " 'Fizz',\n",
              " 52,\n",
              " 53,\n",
              " 'Fizz',\n",
              " 'Buzz',\n",
              " 56,\n",
              " 'Fizz',\n",
              " 58,\n",
              " 59,\n",
              " 'FizzBuzz',\n",
              " 61,\n",
              " 62,\n",
              " 'Fizz',\n",
              " 64,\n",
              " 'Buzz',\n",
              " 'Fizz',\n",
              " 67,\n",
              " 68,\n",
              " 'Fizz',\n",
              " 'Buzz',\n",
              " 71,\n",
              " 'Fizz',\n",
              " 73,\n",
              " 74,\n",
              " 'FizzBuzz',\n",
              " 76,\n",
              " 77,\n",
              " 'Fizz',\n",
              " 79,\n",
              " 'Buzz',\n",
              " 'Fizz',\n",
              " 82,\n",
              " 83,\n",
              " 'Fizz',\n",
              " 'Buzz',\n",
              " 86,\n",
              " 'Fizz',\n",
              " 88,\n",
              " 89,\n",
              " 'FizzBuzz',\n",
              " 91,\n",
              " 92,\n",
              " 'Fizz',\n",
              " 94,\n",
              " 'Buzz',\n",
              " 'Fizz',\n",
              " 97,\n",
              " 98,\n",
              " 'Fizz',\n",
              " 'Buzz']"
            ]
          },
          "execution_count": 14,
          "metadata": {},
          "output_type": "execute_result"
        }
      ],
      "source": [
        "['FizzBuzz' if n % 15 == 0 else 'Fizz' if n % 3 == 0 else 'Buzz' if n % 5 == 0 else n for n in range(1, 101)]"
      ]
    },
    {
      "cell_type": "code",
      "execution_count": null,
      "id": "84dfc5c8",
      "metadata": {
        "id": "84dfc5c8"
      },
      "outputs": [],
      "source": []
    }
  ],
  "metadata": {
    "kernelspec": {
      "display_name": "Python 3 (ipykernel)",
      "language": "python",
      "name": "python3"
    },
    "language_info": {
      "codemirror_mode": {
        "name": "ipython",
        "version": 3
      },
      "file_extension": ".py",
      "mimetype": "text/x-python",
      "name": "python",
      "nbconvert_exporter": "python",
      "pygments_lexer": "ipython3",
      "version": "3.10.2"
    },
    "colab": {
      "provenance": [],
      "include_colab_link": true
    }
  },
  "nbformat": 4,
  "nbformat_minor": 5
}