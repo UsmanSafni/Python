{
  "cells": [
    {
      "cell_type": "markdown",
      "metadata": {
        "id": "view-in-github",
        "colab_type": "text"
      },
      "source": [
        "<a href=\"https://colab.research.google.com/github/UsmanSafni/Python/blob/main/04_04_List_Comprehensions.ipynb\" target=\"_parent\"><img src=\"https://colab.research.google.com/assets/colab-badge.svg\" alt=\"Open In Colab\"/></a>"
      ]
    },
    {
      "cell_type": "markdown",
      "id": "345ce831",
      "metadata": {
        "id": "345ce831"
      },
      "source": [
        "## List Comprehensions"
      ]
    },
    {
      "cell_type": "code",
      "execution_count": null,
      "id": "1ac3c215",
      "metadata": {
        "id": "1ac3c215",
        "outputId": "31c647a9-21b6-4c0b-97c6-9d91fc8de63c"
      },
      "outputs": [
        {
          "data": {
            "text/plain": [
              "[2, 4, 6, 8, 10]"
            ]
          },
          "execution_count": 1,
          "metadata": {},
          "output_type": "execute_result"
        }
      ],
      "source": [
        "myList = [1,2,3,4,5]\n",
        "[2*item for item in myList]"
      ]
    },
    {
      "cell_type": "markdown",
      "id": "21948942",
      "metadata": {
        "id": "21948942"
      },
      "source": [
        "### List comprehensions with filters"
      ]
    },
    {
      "cell_type": "code",
      "execution_count": null,
      "id": "4d3e4c21",
      "metadata": {
        "id": "4d3e4c21",
        "outputId": "6d35e2ef-772f-4e32-c6e4-8aa363b86da8"
      },
      "outputs": [
        {
          "data": {
            "text/plain": [
              "[0, 10, 20, 30, 40, 50, 60, 70, 80, 90]"
            ]
          },
          "execution_count": 3,
          "metadata": {},
          "output_type": "execute_result"
        }
      ],
      "source": [
        "myList = list(range(100))\n",
        "filteredList = [item for item in myList if item % 10 == 0]\n",
        "filteredList"
      ]
    },
    {
      "cell_type": "code",
      "execution_count": null,
      "id": "677c0c15",
      "metadata": {
        "id": "677c0c15",
        "outputId": "3ebad184-1c44-4b00-b263-c9cab2022a40"
      },
      "outputs": [
        {
          "name": "stdout",
          "output_type": "stream",
          "text": [
            "[0, 1, 2, 10, 11, 12, 20, 21, 22, 30, 31, 32, 40, 41, 42, 50, 51, 52, 60, 61, 62, 70, 71, 72, 80, 81, 82, 90, 91, 92]\n"
          ]
        }
      ],
      "source": [
        "filteredList = [item for item in myList if item % 10 < 3]\n",
        "print(filteredList)"
      ]
    },
    {
      "cell_type": "markdown",
      "id": "6463db7f",
      "metadata": {
        "id": "6463db7f"
      },
      "source": [
        "### List comprehensions with functions"
      ]
    },
    {
      "cell_type": "code",
      "execution_count": null,
      "id": "18b7d353",
      "metadata": {
        "id": "18b7d353",
        "outputId": "97c7abd9-93bd-49e7-8dfa-e33a22970c2c"
      },
      "outputs": [
        {
          "data": {
            "text/plain": [
              "['My name is Ryan Mitchell', ' I live in Boston']"
            ]
          },
          "execution_count": 6,
          "metadata": {},
          "output_type": "execute_result"
        }
      ],
      "source": [
        "myString = 'My name is Ryan Mitchell. I live in Boston'\n",
        "myString.split('.')"
      ]
    },
    {
      "cell_type": "code",
      "execution_count": null,
      "id": "097bb41d",
      "metadata": {
        "id": "097bb41d",
        "outputId": "3605e072-f08c-45ce-caa8-8efa09e77e2f"
      },
      "outputs": [
        {
          "data": {
            "text/plain": [
              "['My', 'name', 'is', 'Ryan', 'Mitchell.', 'I', 'live', 'in', 'Boston']"
            ]
          },
          "execution_count": 7,
          "metadata": {},
          "output_type": "execute_result"
        }
      ],
      "source": [
        "myString.split()"
      ]
    },
    {
      "cell_type": "code",
      "execution_count": null,
      "id": "bbcdc319",
      "metadata": {
        "id": "bbcdc319",
        "outputId": "3b7cf631-a239-4f86-9da3-bb8bac6237fa"
      },
      "outputs": [
        {
          "data": {
            "text/plain": [
              "['my', 'name', 'is', 'ryan', 'mitchell', 'i', 'live', 'in', 'boston']"
            ]
          },
          "execution_count": 8,
          "metadata": {},
          "output_type": "execute_result"
        }
      ],
      "source": [
        "def cleanWord(word):\n",
        "    return word.replace('.', '').lower()\n",
        "\n",
        "[cleanWord(word) for word in myString.split()]"
      ]
    },
    {
      "cell_type": "code",
      "execution_count": null,
      "id": "34281955",
      "metadata": {
        "id": "34281955",
        "outputId": "5231796a-5e0f-4bdf-f177-4bfc5c3900aa"
      },
      "outputs": [
        {
          "data": {
            "text/plain": [
              "['my', 'is', 'i', 'in']"
            ]
          },
          "execution_count": 9,
          "metadata": {},
          "output_type": "execute_result"
        }
      ],
      "source": [
        "[cleanWord(word) for word in myString.split() if len(cleanWord(word)) < 3]"
      ]
    },
    {
      "cell_type": "markdown",
      "id": "fcdadece",
      "metadata": {
        "id": "fcdadece"
      },
      "source": [
        "### Nested list comprehensions"
      ]
    },
    {
      "cell_type": "code",
      "execution_count": null,
      "id": "08a10fed",
      "metadata": {
        "id": "08a10fed",
        "outputId": "993f669d-7d41-44b8-abad-b74620ca1748"
      },
      "outputs": [
        {
          "data": {
            "text/plain": [
              "[['my', 'name', 'is', 'ryan', 'mitchell'], ['i', 'live', 'in', 'boston']]"
            ]
          },
          "execution_count": 10,
          "metadata": {},
          "output_type": "execute_result"
        }
      ],
      "source": [
        "[[cleanWord(word) for word in sentence.split()] for sentence in myString.split('.')]"
      ]
    },
    {
      "cell_type": "code",
      "execution_count": null,
      "id": "9653eb8d",
      "metadata": {
        "id": "9653eb8d"
      },
      "outputs": [],
      "source": []
    }
  ],
  "metadata": {
    "kernelspec": {
      "display_name": "Python 3 (ipykernel)",
      "language": "python",
      "name": "python3"
    },
    "language_info": {
      "codemirror_mode": {
        "name": "ipython",
        "version": 3
      },
      "file_extension": ".py",
      "mimetype": "text/x-python",
      "name": "python",
      "nbconvert_exporter": "python",
      "pygments_lexer": "ipython3",
      "version": "3.10.2"
    },
    "colab": {
      "provenance": [],
      "include_colab_link": true
    }
  },
  "nbformat": 4,
  "nbformat_minor": 5
}