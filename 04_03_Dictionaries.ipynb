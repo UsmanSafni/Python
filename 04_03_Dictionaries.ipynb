{
  "cells": [
    {
      "cell_type": "markdown",
      "metadata": {
        "id": "view-in-github",
        "colab_type": "text"
      },
      "source": [
        "<a href=\"https://colab.research.google.com/github/UsmanSafni/Python/blob/main/04_03_Dictionaries.ipynb\" target=\"_parent\"><img src=\"https://colab.research.google.com/assets/colab-badge.svg\" alt=\"Open In Colab\"/></a>"
      ]
    },
    {
      "cell_type": "code",
      "execution_count": null,
      "id": "a6cd1c0a",
      "metadata": {
        "id": "a6cd1c0a"
      },
      "outputs": [],
      "source": [
        "from collections import defaultdict"
      ]
    },
    {
      "cell_type": "markdown",
      "id": "f635ede0",
      "metadata": {
        "id": "f635ede0"
      },
      "source": [
        "## Dictionaries"
      ]
    },
    {
      "cell_type": "code",
      "execution_count": null,
      "id": "68d250c4",
      "metadata": {
        "id": "68d250c4",
        "outputId": "e3a3527b-f2f2-4984-8a91-a4cfc5149a73"
      },
      "outputs": [
        {
          "data": {
            "text/plain": [
              "{'a': 'aardvark', 'b': 'bear', 'c': 'cat'}"
            ]
          },
          "execution_count": 3,
          "metadata": {},
          "output_type": "execute_result"
        }
      ],
      "source": [
        "animals = {\n",
        "    'a': 'aardvark',\n",
        "    'b': 'bear',\n",
        "    'c': 'cat',\n",
        "}\n",
        "animals"
      ]
    },
    {
      "cell_type": "code",
      "execution_count": null,
      "id": "841f1cd7",
      "metadata": {
        "id": "841f1cd7",
        "outputId": "e8f9c440-6331-4637-d8b7-ca99d99ba831"
      },
      "outputs": [
        {
          "data": {
            "text/plain": [
              "'aardvark'"
            ]
          },
          "execution_count": 4,
          "metadata": {},
          "output_type": "execute_result"
        }
      ],
      "source": [
        "animals['a']"
      ]
    },
    {
      "cell_type": "code",
      "execution_count": null,
      "id": "04782755",
      "metadata": {
        "id": "04782755"
      },
      "outputs": [],
      "source": [
        "animals['d'] = 'dog'"
      ]
    },
    {
      "cell_type": "code",
      "execution_count": null,
      "id": "c65fd4ff",
      "metadata": {
        "id": "c65fd4ff",
        "outputId": "cd5e7006-f47a-4b93-bbdf-af188afe350f"
      },
      "outputs": [
        {
          "data": {
            "text/plain": [
              "{'a': 'aardvark', 'b': 'bear', 'c': 'cat', 'd': 'dog'}"
            ]
          },
          "execution_count": 6,
          "metadata": {},
          "output_type": "execute_result"
        }
      ],
      "source": [
        "animals"
      ]
    },
    {
      "cell_type": "code",
      "execution_count": null,
      "id": "1a5be2d9",
      "metadata": {
        "id": "1a5be2d9",
        "outputId": "f3be22e8-4d9a-42ed-b0bb-061284413933"
      },
      "outputs": [
        {
          "data": {
            "text/plain": [
              "{'a': 'antelope', 'b': 'bear', 'c': 'cat', 'd': 'dog'}"
            ]
          },
          "execution_count": 7,
          "metadata": {},
          "output_type": "execute_result"
        }
      ],
      "source": [
        "animals['a'] = 'antelope'\n",
        "animals"
      ]
    },
    {
      "cell_type": "code",
      "execution_count": null,
      "id": "a55c6d44",
      "metadata": {
        "id": "a55c6d44",
        "outputId": "6f7645f7-54cd-430a-d114-dcf9e142b5dd"
      },
      "outputs": [
        {
          "data": {
            "text/plain": [
              "dict_keys(['a', 'b', 'c', 'd'])"
            ]
          },
          "execution_count": 8,
          "metadata": {},
          "output_type": "execute_result"
        }
      ],
      "source": [
        "animals.keys()"
      ]
    },
    {
      "cell_type": "code",
      "execution_count": null,
      "id": "4c851484",
      "metadata": {
        "id": "4c851484",
        "outputId": "bd00094e-3466-4ba5-8d7f-8ad76341d7a5"
      },
      "outputs": [
        {
          "data": {
            "text/plain": [
              "dict_values(['antelope', 'bear', 'cat', 'dog'])"
            ]
          },
          "execution_count": 9,
          "metadata": {},
          "output_type": "execute_result"
        }
      ],
      "source": [
        "animals.values()"
      ]
    },
    {
      "cell_type": "code",
      "execution_count": null,
      "id": "f6c35bdc",
      "metadata": {
        "id": "f6c35bdc",
        "outputId": "a21013b2-db5c-405c-e5a0-176b689e0a9b"
      },
      "outputs": [
        {
          "data": {
            "text/plain": [
              "['a', 'b', 'c', 'd']"
            ]
          },
          "execution_count": 10,
          "metadata": {},
          "output_type": "execute_result"
        }
      ],
      "source": [
        "list(animals.keys())"
      ]
    },
    {
      "cell_type": "code",
      "execution_count": null,
      "id": "dcf867b7",
      "metadata": {
        "id": "dcf867b7",
        "outputId": "e9e4f6d6-7e94-44f3-ef06-4a9d9e4dc7dd"
      },
      "outputs": [
        {
          "ename": "KeyError",
          "evalue": "'e'",
          "output_type": "error",
          "traceback": [
            "\u001b[0;31m---------------------------------------------------------------------------\u001b[0m",
            "\u001b[0;31mKeyError\u001b[0m                                  Traceback (most recent call last)",
            "Input \u001b[0;32mIn [11]\u001b[0m, in \u001b[0;36m<module>\u001b[0;34m\u001b[0m\n\u001b[0;32m----> 1\u001b[0m \u001b[43manimals\u001b[49m\u001b[43m[\u001b[49m\u001b[38;5;124;43m'\u001b[39;49m\u001b[38;5;124;43me\u001b[39;49m\u001b[38;5;124;43m'\u001b[39;49m\u001b[43m]\u001b[49m\n",
            "\u001b[0;31mKeyError\u001b[0m: 'e'"
          ]
        }
      ],
      "source": [
        "animals['e']"
      ]
    },
    {
      "cell_type": "code",
      "execution_count": null,
      "id": "7c06306f",
      "metadata": {
        "id": "7c06306f",
        "outputId": "7d11bdb0-362f-4727-ad5b-0277321c403a"
      },
      "outputs": [
        {
          "data": {
            "text/plain": [
              "'antelope'"
            ]
          },
          "execution_count": 15,
          "metadata": {},
          "output_type": "execute_result"
        }
      ],
      "source": [
        "animals.get('a')"
      ]
    },
    {
      "cell_type": "code",
      "execution_count": null,
      "id": "df87bf97",
      "metadata": {
        "id": "df87bf97",
        "outputId": "f472ab3a-6c11-4aa6-8c96-a7d402adbcf4"
      },
      "outputs": [
        {
          "data": {
            "text/plain": [
              "4"
            ]
          },
          "execution_count": 16,
          "metadata": {},
          "output_type": "execute_result"
        }
      ],
      "source": [
        "len(animals)"
      ]
    },
    {
      "cell_type": "code",
      "execution_count": null,
      "id": "e1a8477a",
      "metadata": {
        "id": "e1a8477a"
      },
      "outputs": [],
      "source": [
        "animals = {\n",
        "    'a': ['aardvark', 'antelope'],\n",
        "    'b': ['bear'],\n",
        "}"
      ]
    },
    {
      "cell_type": "code",
      "execution_count": null,
      "id": "97b04f20",
      "metadata": {
        "id": "97b04f20"
      },
      "outputs": [],
      "source": [
        "animals['b'].append('bison')"
      ]
    },
    {
      "cell_type": "code",
      "execution_count": null,
      "id": "f862d71c",
      "metadata": {
        "id": "f862d71c"
      },
      "outputs": [],
      "source": [
        "animals['c'] = ['cat']"
      ]
    },
    {
      "cell_type": "code",
      "execution_count": null,
      "id": "ab292c6b",
      "metadata": {
        "id": "ab292c6b"
      },
      "outputs": [],
      "source": [
        "if 'c' not in animals:\n",
        "    animals['c'] = []\n",
        "\n",
        "animals['c'].append('cat')"
      ]
    },
    {
      "cell_type": "markdown",
      "id": "99f7f409",
      "metadata": {
        "id": "99f7f409"
      },
      "source": [
        "### The Default Dict"
      ]
    },
    {
      "cell_type": "code",
      "execution_count": null,
      "id": "71803fe4",
      "metadata": {
        "id": "71803fe4"
      },
      "outputs": [],
      "source": [
        "animals = defaultdict(list)"
      ]
    },
    {
      "cell_type": "code",
      "execution_count": null,
      "id": "57e747f6",
      "metadata": {
        "id": "57e747f6",
        "outputId": "b11da9be-3e1b-4f7f-da15-e1b6f55abbec"
      },
      "outputs": [
        {
          "data": {
            "text/plain": [
              "defaultdict(list, {})"
            ]
          },
          "execution_count": 23,
          "metadata": {},
          "output_type": "execute_result"
        }
      ],
      "source": [
        "animals"
      ]
    },
    {
      "cell_type": "code",
      "execution_count": null,
      "id": "faaa95e0",
      "metadata": {
        "id": "faaa95e0",
        "outputId": "79ccf4c6-f3fc-4652-de5a-9f4be9b4b9a9"
      },
      "outputs": [
        {
          "data": {
            "text/plain": [
              "defaultdict(list, {'e': ['elephant']})"
            ]
          },
          "execution_count": 24,
          "metadata": {},
          "output_type": "execute_result"
        }
      ],
      "source": [
        "animals['e'].append('elephant')\n",
        "animals"
      ]
    },
    {
      "cell_type": "code",
      "execution_count": null,
      "id": "b8fefdb6",
      "metadata": {
        "id": "b8fefdb6",
        "outputId": "77bbed43-ed15-43ab-f9e4-2c1c0b4ac5de"
      },
      "outputs": [
        {
          "data": {
            "text/plain": [
              "defaultdict(list, {'e': ['elephant', 'emu']})"
            ]
          },
          "execution_count": 25,
          "metadata": {},
          "output_type": "execute_result"
        }
      ],
      "source": [
        "animals['e'].append('emu')\n",
        "animals"
      ]
    },
    {
      "cell_type": "code",
      "execution_count": null,
      "id": "f8f53dc5",
      "metadata": {
        "id": "f8f53dc5",
        "outputId": "61ab8c90-b41d-45e5-84c7-e2a57f6a7f56"
      },
      "outputs": [
        {
          "data": {
            "text/plain": [
              "[]"
            ]
          },
          "execution_count": 26,
          "metadata": {},
          "output_type": "execute_result"
        }
      ],
      "source": [
        "animals['f']"
      ]
    },
    {
      "cell_type": "code",
      "execution_count": null,
      "id": "6973288b",
      "metadata": {
        "id": "6973288b"
      },
      "outputs": [],
      "source": []
    }
  ],
  "metadata": {
    "kernelspec": {
      "display_name": "Python 3 (ipykernel)",
      "language": "python",
      "name": "python3"
    },
    "language_info": {
      "codemirror_mode": {
        "name": "ipython",
        "version": 3
      },
      "file_extension": ".py",
      "mimetype": "text/x-python",
      "name": "python",
      "nbconvert_exporter": "python",
      "pygments_lexer": "ipython3",
      "version": "3.10.2"
    },
    "colab": {
      "provenance": [],
      "include_colab_link": true
    }
  },
  "nbformat": 4,
  "nbformat_minor": 5
}